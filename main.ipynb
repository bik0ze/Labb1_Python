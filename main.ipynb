{
 "cells": [
  {
   "cell_type": "code",
   "execution_count": 2,
   "metadata": {},
   "outputs": [
    {
     "ename": "ModuleNotFoundError",
     "evalue": "No module named 'matplotlib'",
     "output_type": "error",
     "traceback": [
      "\u001b[1;31m---------------------------------------------------------------------------\u001b[0m",
      "\u001b[1;31mModuleNotFoundError\u001b[0m                       Traceback (most recent call last)",
      "Cell \u001b[1;32mIn[2], line 1\u001b[0m\n\u001b[1;32m----> 1\u001b[0m \u001b[38;5;28;01mimport\u001b[39;00m\u001b[38;5;250m \u001b[39m\u001b[38;5;21;01mmatplotlib\u001b[39;00m\u001b[38;5;21;01m.\u001b[39;00m\u001b[38;5;21;01mpyplot\u001b[39;00m\u001b[38;5;250m \u001b[39m\u001b[38;5;28;01mas\u001b[39;00m\u001b[38;5;250m \u001b[39m\u001b[38;5;21;01mplt\u001b[39;00m\n\u001b[0;32m      2\u001b[0m \u001b[38;5;28;01mfrom\u001b[39;00m\u001b[38;5;250m \u001b[39m\u001b[38;5;21;01mcollections\u001b[39;00m\u001b[38;5;250m \u001b[39m\u001b[38;5;28;01mimport\u001b[39;00m Counter\n\u001b[0;32m      4\u001b[0m \u001b[38;5;28;01mdef\u001b[39;00m\u001b[38;5;250m \u001b[39m\u001b[38;5;21mread_dna_file\u001b[39m(filename):\n",
      "\u001b[1;31mModuleNotFoundError\u001b[0m: No module named 'matplotlib'"
     ]
    }
   ],
   "source": [
    "import matplotlib.pyplot as plt\n",
    "from collections import Counter\n",
    "\n",
    "def read_dna_file(filename):\n",
    "    sequences = {}\n",
    "    with open(filename, \"r\") as file:\n",
    "        current_seq_id = None\n",
    "        for line in file:\n",
    "            line = line.strip()\n",
    "            if line.startswith(\">\"):\n",
    "                current_seq_id = line[1:]  # Remove '>'\n",
    "                sequences[current_seq_id] = \"\"\n",
    "            else:\n",
    "                sequences[current_seq_id] += line.upper()  # Convert sequence to uppercase\n",
    "    return sequences\n",
    "\n",
    "def count_dna_letters(sequence):\n",
    "    return Counter(sequence)\n",
    "\n",
    "def plot_dna_frequencies(sequence_id, letter_counts):\n",
    "    plt.figure(figsize=(6, 4))\n",
    "    plt.bar(letter_counts.keys(), letter_counts.values())\n",
    "    plt.xlabel(\"DNA Letters\")\n",
    "    plt.ylabel(\"Frequency\")\n",
    "    plt.title(f\"DNA Sequence: {sequence_id}\")\n",
    "    plt.show()\n",
    "\n",
    "# Read DNA sequences from file\n",
    "dna_sequences = read_dna_file(\"dna_raw.txt\")\n",
    "\n",
    "# Process each sequence\n",
    "for seq_id, sequence in dna_sequences.items():\n",
    "    letter_counts = count_dna_letters(sequence)\n",
    "    print(f\"{seq_id}: {dict(letter_counts)}\")  # Print dictionary with counts\n",
    "    plot_dna_frequencies(seq_id, letter_counts)\n"
   ]
  }
 ],
 "metadata": {
  "kernelspec": {
   "display_name": "venv",
   "language": "python",
   "name": "python3"
  },
  "language_info": {
   "codemirror_mode": {
    "name": "ipython",
    "version": 3
   },
   "file_extension": ".py",
   "mimetype": "text/x-python",
   "name": "python",
   "nbconvert_exporter": "python",
   "pygments_lexer": "ipython3",
   "version": "3.13.1"
  }
 },
 "nbformat": 4,
 "nbformat_minor": 2
}
